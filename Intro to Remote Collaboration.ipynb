{
 "metadata": {
  "name": "",
  "signature": "sha256:0bf3bbbd2fabbe5891200e0168cfee00b8cb106d08b47c9fb8e0b0f33ab0279d"
 },
 "nbformat": 3,
 "nbformat_minor": 0,
 "worksheets": []
}